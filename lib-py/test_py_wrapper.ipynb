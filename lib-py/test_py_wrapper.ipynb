{
 "cells": [
  {
   "cell_type": "code",
   "execution_count": 1,
   "metadata": {},
   "outputs": [],
   "source": [
    "import pandas as pd\n",
    "import matplotlib.pyplot as plt"
   ]
  },
  {
   "cell_type": "code",
   "execution_count": 2,
   "metadata": {},
   "outputs": [],
   "source": [
    "from tinystepperdriver import Tinystepperdriver\n",
    "drv = Tinystepperdriver(1, 2)"
   ]
  },
  {
   "cell_type": "code",
   "execution_count": 3,
   "metadata": {},
   "outputs": [
    {
     "name": "stdout",
     "output_type": "stream",
     "text": [
      "True\n",
      "484444\n"
     ]
    }
   ],
   "source": [
    "print(drv.move(4, 0, 300))\n",
    "itrs = 0\n",
    "while drv.iterate():\n",
    "    itrs += 1\n",
    "    \n",
    "print(itrs)"
   ]
  },
  {
   "cell_type": "code",
   "execution_count": 4,
   "metadata": {},
   "outputs": [
    {
     "data": {
      "text/html": [
       "<div>\n",
       "<style scoped>\n",
       "    .dataframe tbody tr th:only-of-type {\n",
       "        vertical-align: middle;\n",
       "    }\n",
       "\n",
       "    .dataframe tbody tr th {\n",
       "        vertical-align: top;\n",
       "    }\n",
       "\n",
       "    .dataframe thead th {\n",
       "        text-align: right;\n",
       "    }\n",
       "</style>\n",
       "<table border=\"1\" class=\"dataframe\">\n",
       "  <thead>\n",
       "    <tr style=\"text-align: right;\">\n",
       "      <th></th>\n",
       "      <th>time</th>\n",
       "      <th>pin</th>\n",
       "      <th>state</th>\n",
       "      <th>duration</th>\n",
       "      <th>time_relative</th>\n",
       "    </tr>\n",
       "  </thead>\n",
       "  <tbody>\n",
       "    <tr>\n",
       "      <td>1</td>\n",
       "      <td>3560858172</td>\n",
       "      <td>1</td>\n",
       "      <td>1</td>\n",
       "      <td>38</td>\n",
       "      <td>0</td>\n",
       "    </tr>\n",
       "    <tr>\n",
       "      <td>2</td>\n",
       "      <td>3560858211</td>\n",
       "      <td>1</td>\n",
       "      <td>0</td>\n",
       "      <td>39</td>\n",
       "      <td>39</td>\n",
       "    </tr>\n",
       "    <tr>\n",
       "      <td>3</td>\n",
       "      <td>3560858250</td>\n",
       "      <td>1</td>\n",
       "      <td>1</td>\n",
       "      <td>39</td>\n",
       "      <td>78</td>\n",
       "    </tr>\n",
       "    <tr>\n",
       "      <td>4</td>\n",
       "      <td>3560858290</td>\n",
       "      <td>1</td>\n",
       "      <td>0</td>\n",
       "      <td>40</td>\n",
       "      <td>118</td>\n",
       "    </tr>\n",
       "    <tr>\n",
       "      <td>5</td>\n",
       "      <td>3560858329</td>\n",
       "      <td>1</td>\n",
       "      <td>1</td>\n",
       "      <td>39</td>\n",
       "      <td>157</td>\n",
       "    </tr>\n",
       "    <tr>\n",
       "      <td>6</td>\n",
       "      <td>3560858367</td>\n",
       "      <td>1</td>\n",
       "      <td>0</td>\n",
       "      <td>38</td>\n",
       "      <td>195</td>\n",
       "    </tr>\n",
       "    <tr>\n",
       "      <td>7</td>\n",
       "      <td>3560858406</td>\n",
       "      <td>1</td>\n",
       "      <td>1</td>\n",
       "      <td>39</td>\n",
       "      <td>234</td>\n",
       "    </tr>\n",
       "    <tr>\n",
       "      <td>8</td>\n",
       "      <td>3560858444</td>\n",
       "      <td>1</td>\n",
       "      <td>0</td>\n",
       "      <td>38</td>\n",
       "      <td>272</td>\n",
       "    </tr>\n",
       "    <tr>\n",
       "      <td>9</td>\n",
       "      <td>3560858448</td>\n",
       "      <td>1</td>\n",
       "      <td>0</td>\n",
       "      <td>4</td>\n",
       "      <td>276</td>\n",
       "    </tr>\n",
       "  </tbody>\n",
       "</table>\n",
       "</div>"
      ],
      "text/plain": [
       "         time  pin  state  duration  time_relative\n",
       "1  3560858172    1      1        38              0\n",
       "2  3560858211    1      0        39             39\n",
       "3  3560858250    1      1        39             78\n",
       "4  3560858290    1      0        40            118\n",
       "5  3560858329    1      1        39            157\n",
       "6  3560858367    1      0        38            195\n",
       "7  3560858406    1      1        39            234\n",
       "8  3560858444    1      0        38            272\n",
       "9  3560858448    1      0         4            276"
      ]
     },
     "execution_count": 4,
     "metadata": {},
     "output_type": "execute_result"
    }
   ],
   "source": [
    "last_val = 0\n",
    "def f(row):\n",
    "    global last_val\n",
    "    if last_val == 0:\n",
    "        val = 0\n",
    "    else:\n",
    "        val = row[\"time\"] - last_val\n",
    "    last_val = row[\"time\"]\n",
    "    return val\n",
    "\n",
    "df = pd.read_csv(\"log_digitalWrite.txt\")\n",
    "df[\"duration\"] = df.apply(f, axis=1)\n",
    "\n",
    "first_val = 0\n",
    "def g(row):\n",
    "    global first_val\n",
    "    val = 0\n",
    "    if first_val != 0:\n",
    "        val = row[\"time\"] - first_val\n",
    "    else:\n",
    "        first_val = row[\"time\"]\n",
    "    return val\n",
    "\n",
    "df2 = df[df[\"pin\"]!=2].copy()\n",
    "df2[\"time_relative\"] = df2.apply(g, axis=1)\n",
    "df2"
   ]
  },
  {
   "cell_type": "code",
   "execution_count": 5,
   "metadata": {},
   "outputs": [
    {
     "data": {
      "text/plain": [
       "[<matplotlib.lines.Line2D at 0x15ea8e7b2c8>]"
      ]
     },
     "execution_count": 5,
     "metadata": {},
     "output_type": "execute_result"
    },
    {
     "data": {
      "image/png": "[encoded data removed]",
      "text/plain": [
       "<Figure size 1152x576 with 1 Axes>"
      ]
     },
     "metadata": {
      "needs_background": "light"
     },
     "output_type": "display_data"
    }
   ],
   "source": [
    "plt.figure(figsize=(16, 8))\n",
    "plt.step(df2[\"time_relative\"], df2[\"state\"], where=\"post\")"
   ]
  },
  {
   "cell_type": "code",
   "execution_count": 6,
   "metadata": {},
   "outputs": [
    {
     "data": {
      "text/html": [
       "<div>\n",
       "<style scoped>\n",
       "    .dataframe tbody tr th:only-of-type {\n",
       "        vertical-align: middle;\n",
       "    }\n",
       "\n",
       "    .dataframe tbody tr th {\n",
       "        vertical-align: top;\n",
       "    }\n",
       "\n",
       "    .dataframe thead th {\n",
       "        text-align: right;\n",
       "    }\n",
       "</style>\n",
       "<table border=\"1\" class=\"dataframe\">\n",
       "  <thead>\n",
       "    <tr style=\"text-align: right;\">\n",
       "      <th></th>\n",
       "      <th>time</th>\n",
       "      <th>operation</th>\n",
       "      <th>steps</th>\n",
       "      <th>duration</th>\n",
       "      <th>last_step_time</th>\n",
       "      <th>time_since_step</th>\n",
       "      <th>wanted_duration</th>\n",
       "    </tr>\n",
       "  </thead>\n",
       "  <tbody>\n",
       "    <tr>\n",
       "      <td>0</td>\n",
       "      <td>3560858173</td>\n",
       "      <td>iterate</td>\n",
       "      <td>7</td>\n",
       "      <td>262477</td>\n",
       "      <td>330285081</td>\n",
       "      <td>37523</td>\n",
       "      <td>37500</td>\n",
       "    </tr>\n",
       "    <tr>\n",
       "      <td>1</td>\n",
       "      <td>3560858212</td>\n",
       "      <td>iterate</td>\n",
       "      <td>6</td>\n",
       "      <td>224523</td>\n",
       "      <td>330324055</td>\n",
       "      <td>37954</td>\n",
       "      <td>37496</td>\n",
       "    </tr>\n",
       "    <tr>\n",
       "      <td>2</td>\n",
       "      <td>3560858252</td>\n",
       "      <td>iterate</td>\n",
       "      <td>5</td>\n",
       "      <td>186574</td>\n",
       "      <td>330364020</td>\n",
       "      <td>37949</td>\n",
       "      <td>37420</td>\n",
       "    </tr>\n",
       "    <tr>\n",
       "      <td>3</td>\n",
       "      <td>3560858291</td>\n",
       "      <td>iterate</td>\n",
       "      <td>4</td>\n",
       "      <td>148585</td>\n",
       "      <td>330403515</td>\n",
       "      <td>37989</td>\n",
       "      <td>37314</td>\n",
       "    </tr>\n",
       "    <tr>\n",
       "      <td>4</td>\n",
       "      <td>3560858330</td>\n",
       "      <td>iterate</td>\n",
       "      <td>3</td>\n",
       "      <td>111027</td>\n",
       "      <td>330442070</td>\n",
       "      <td>37558</td>\n",
       "      <td>37146</td>\n",
       "    </tr>\n",
       "    <tr>\n",
       "      <td>5</td>\n",
       "      <td>3560858369</td>\n",
       "      <td>iterate</td>\n",
       "      <td>2</td>\n",
       "      <td>73513</td>\n",
       "      <td>330481086</td>\n",
       "      <td>37514</td>\n",
       "      <td>37009</td>\n",
       "    </tr>\n",
       "    <tr>\n",
       "      <td>6</td>\n",
       "      <td>3560858408</td>\n",
       "      <td>iterate</td>\n",
       "      <td>1</td>\n",
       "      <td>36035</td>\n",
       "      <td>330520109</td>\n",
       "      <td>37478</td>\n",
       "      <td>36756</td>\n",
       "    </tr>\n",
       "    <tr>\n",
       "      <td>7</td>\n",
       "      <td>3560858445</td>\n",
       "      <td>iterate</td>\n",
       "      <td>0</td>\n",
       "      <td>0</td>\n",
       "      <td>330557555</td>\n",
       "      <td>36447</td>\n",
       "      <td>36035</td>\n",
       "    </tr>\n",
       "  </tbody>\n",
       "</table>\n",
       "</div>"
      ],
      "text/plain": [
       "         time operation  steps  duration  last_step_time  time_since_step  \\\n",
       "0  3560858173   iterate      7    262477       330285081            37523   \n",
       "1  3560858212   iterate      6    224523       330324055            37954   \n",
       "2  3560858252   iterate      5    186574       330364020            37949   \n",
       "3  3560858291   iterate      4    148585       330403515            37989   \n",
       "4  3560858330   iterate      3    111027       330442070            37558   \n",
       "5  3560858369   iterate      2     73513       330481086            37514   \n",
       "6  3560858408   iterate      1     36035       330520109            37478   \n",
       "7  3560858445   iterate      0         0       330557555            36447   \n",
       "\n",
       "   wanted_duration  \n",
       "0            37500  \n",
       "1            37496  \n",
       "2            37420  \n",
       "3            37314  \n",
       "4            37146  \n",
       "5            37009  \n",
       "6            36756  \n",
       "7            36035  "
      ]
     },
     "execution_count": 6,
     "metadata": {},
     "output_type": "execute_result"
    }
   ],
   "source": [
    "df_gen = pd.read_csv(\"log_general.txt\")\n",
    "df_gen.columns = [\"time\", \"operation\", \"steps\", \"duration\", \"last_step_time\", \"time_since_step\", \"wanted_duration\"]\n",
    "df_gen"
   ]
  },
  {
   "cell_type": "code",
   "execution_count": 7,
   "metadata": {},
   "outputs": [
    {
     "data": {
      "text/plain": [
       "296.676"
      ]
     },
     "execution_count": 7,
     "metadata": {},
     "output_type": "execute_result"
    }
   ],
   "source": [
    "df_gen[\"wanted_duration\"].sum()/1000"
   ]
  }
 ],
 "metadata": {
  "kernelspec": {
   "display_name": "Python 3",
   "language": "python",
   "name": "python3"
  },
  "language_info": {
   "codemirror_mode": {
    "name": "ipython",
    "version": 3
   },
   "file_extension": ".py",
   "mimetype": "text/x-python",
   "name": "python",
   "nbconvert_exporter": "python",
   "pygments_lexer": "ipython3",
   "version": "3.7.4"
  }
 },
 "nbformat": 4,
 "nbformat_minor": 2
}
